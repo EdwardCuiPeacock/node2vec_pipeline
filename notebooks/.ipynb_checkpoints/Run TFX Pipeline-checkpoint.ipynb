{
 "cells": [
  {
   "cell_type": "code",
   "execution_count": 2,
   "id": "differential-independence",
   "metadata": {
    "ExecuteTime": {
     "end_time": "2021-04-06T17:35:57.549189Z",
     "start_time": "2021-04-06T17:35:57.525460Z"
    },
    "deletable": false,
    "editable": false
   },
   "outputs": [
    {
     "name": "stdout",
     "output_type": "stream",
     "text": [
      "/home/jupyter/node2vec_pipeline\n"
     ]
    }
   ],
   "source": [
    "%cd /home/jupyter/node2vec_pipeline"
   ]
  },
  {
   "cell_type": "code",
   "execution_count": 3,
   "id": "destroyed-investigator",
   "metadata": {
    "ExecuteTime": {
     "end_time": "2021-04-06T17:35:57.786854Z",
     "start_time": "2021-04-06T17:35:57.782102Z"
    },
    "deletable": false,
    "editable": false
   },
   "outputs": [],
   "source": [
    "GOOGLE_CLOUD_PROJECT = \"res-nbcupea-dev-ds-sandbox-001\"\n",
    "ENDPOINT='https://df6bc4688870067-dot-us-east1.pipelines.googleusercontent.com' # Enter your ENDPOINT here.\n",
    "CUSTOM_TFX_IMAGE = CUSTOM_TFX_IMAGE='gcr.io/' + GOOGLE_CLOUD_PROJECT + '/tfx-pipeline'"
   ]
  },
  {
   "cell_type": "code",
   "execution_count": 4,
   "id": "median-facial",
   "metadata": {
    "ExecuteTime": {
     "end_time": "2021-04-06T17:35:58.084336Z",
     "start_time": "2021-04-06T17:35:58.077871Z"
    },
    "deletable": false,
    "editable": false
   },
   "outputs": [
    {
     "name": "stdout",
     "output_type": "stream",
     "text": [
      "env: PATH=/opt/conda/bin:/opt/conda/condabin:/usr/local/bin:/usr/bin:/bin:/usr/local/games:/usr/games:/home/jupyter/.local/bin\n"
     ]
    }
   ],
   "source": [
    "# Set `PATH` to include user python binary directory and a directory containing `skaffold`, as well as `tfx`\n",
    "PATH=%env PATH\n",
    "%env PATH={PATH}:/home/jupyter/.local/bin"
   ]
  },
  {
   "cell_type": "code",
   "execution_count": 44,
   "id": "accepted-celebration",
   "metadata": {
    "ExecuteTime": {
     "end_time": "2021-04-08T15:48:56.418252Z",
     "start_time": "2021-04-08T15:48:30.070264Z"
    },
    "deletable": false,
    "editable": false,
    "run_control": {
     "frozen": true
    },
    "scrolled": true
   },
   "outputs": [
    {
     "name": "stdout",
     "output_type": "stream",
     "text": [
      "2021-04-08 15:48:30.501681: W tensorflow/stream_executor/platform/default/dso_loader.cc:59] Could not load dynamic library 'libcudart.so.10.1'; dlerror: libcudart.so.10.1: cannot open shared object file: No such file or directory\n",
      "2021-04-08 15:48:30.501804: I tensorflow/stream_executor/cuda/cudart_stub.cc:29] Ignore above cudart dlerror if you do not have a GPU set up on your machine.\n",
      "CLI\n",
      "Creating pipeline\n",
      "Detected Kubeflow.\n",
      "Use --engine flag if you intend to use a different orchestrator.\n",
      "Reading build spec from build.yaml\n",
      "Target image gcr.io/res-nbcupea-dev-ds-sandbox-001/tfx-pipeline is not used. If the build spec is provided, update the target image in the build spec file build.yaml.\n",
      "[Skaffold] Generating tags...\n",
      "[Skaffold]  - gcr.io/res-nbcupea-dev-ds-sandbox-001/tfx-pipeline -> gcr.io/res-nbcupea-dev-ds-sandbox-001/tfx-pipeline:latest\n",
      "[Skaffold] Checking cache...\n",
      "[Skaffold]  - gcr.io/res-nbcupea-dev-ds-sandbox-001/tfx-pipeline: Not found. Building\n",
      "[Skaffold] Starting build...\n",
      "[Skaffold] Building [gcr.io/res-nbcupea-dev-ds-sandbox-001/tfx-pipeline]...\n",
      "[Skaffold] Sending build context to Docker daemon  72.66MB\n",
      "[Skaffold] Step 1/4 : FROM tensorflow/tfx:0.26.0\n",
      "[Skaffold]  ---> 3230796f5988\n",
      "[Skaffold] Step 2/4 : WORKDIR /pipeline\n",
      "[Skaffold]  ---> Using cache\n",
      "[Skaffold]  ---> ddad9cd6ca10\n",
      "[Skaffold] Step 3/4 : COPY ./ ./\n",
      "[Skaffold]  ---> a4add0d2f0e2\n",
      "[Skaffold] Step 4/4 : ENV PYTHONPATH=\"/pipeline:${PYTHONPATH}\"\n",
      "[Skaffold]  ---> Running in fdec81b2a100\n",
      "[Skaffold] Removing intermediate container fdec81b2a100\n",
      "[Skaffold]  ---> 2cce97f3d0c6\n",
      "[Skaffold] Successfully built 2cce97f3d0c6\n",
      "[Skaffold] Successfully tagged gcr.io/res-nbcupea-dev-ds-sandbox-001/tfx-pipeline:latest\n",
      "[Skaffold] The push refers to repository [gcr.io/res-nbcupea-dev-ds-sandbox-001/tfx-pipeline]\n",
      "[Skaffold] a396df9fb94c: Preparing\n",
      "[Skaffold] f59694ec6d1f: Preparing\n",
      "[Skaffold] 23b988d0a368: Preparing\n",
      "[Skaffold] a0fdd9e79e13: Preparing\n",
      "[Skaffold] 7ed3e18de502: Preparing\n",
      "[Skaffold] fd335a0d8c48: Preparing\n",
      "[Skaffold] 7d985a940d09: Preparing\n",
      "[Skaffold] 4058ae03fa32: Preparing\n",
      "[Skaffold] e3437c61d457: Preparing\n",
      "[Skaffold] fd335a0d8c48: Waiting\n",
      "[Skaffold] 7d985a940d09: Waiting\n",
      "[Skaffold] 4058ae03fa32: Waiting\n",
      "[Skaffold] 84ff92691f90: Preparing\n",
      "[Skaffold] 54b00d861a7a: Preparing\n",
      "[Skaffold] c547358928ab: Preparing\n",
      "[Skaffold] 84ff92691f90: Preparing\n",
      "[Skaffold] c4e66be694ce: Preparing\n",
      "[Skaffold] 47cc65c6dd57: Preparing\n",
      "[Skaffold] e3437c61d457: Waiting\n",
      "[Skaffold] 84ff92691f90: Waiting\n",
      "[Skaffold] 54b00d861a7a: Waiting\n",
      "[Skaffold] c547358928ab: Waiting\n",
      "[Skaffold] c4e66be694ce: Waiting\n",
      "[Skaffold] 47cc65c6dd57: Waiting\n",
      "[Skaffold] 7ed3e18de502: Layer already exists\n",
      "[Skaffold] f59694ec6d1f: Layer already exists\n",
      "[Skaffold] 23b988d0a368: Layer already exists\n",
      "[Skaffold] a0fdd9e79e13: Layer already exists\n",
      "[Skaffold] fd335a0d8c48: Layer already exists\n",
      "[Skaffold] 4058ae03fa32: Layer already exists\n",
      "[Skaffold] e3437c61d457: Layer already exists\n",
      "[Skaffold] 7d985a940d09: Layer already exists\n",
      "[Skaffold] 84ff92691f90: Layer already exists\n",
      "[Skaffold] c547358928ab: Layer already exists\n",
      "[Skaffold] 54b00d861a7a: Layer already exists\n",
      "[Skaffold] c4e66be694ce: Layer already exists\n",
      "[Skaffold] 47cc65c6dd57: Layer already exists\n",
      "[Skaffold] a396df9fb94c: Pushed\n",
      "[Skaffold] latest: digest: sha256:4ea79cbcf9bdde5f57842b4ea71168f1569613030bfa68e7b85d90f662a5e543 size: 3482\n",
      "New container image is built. Target image is available in the build spec file.\n",
      "2021-04-08 15:48:51.308883: W tensorflow/stream_executor/platform/default/dso_loader.cc:59] Could not load dynamic library 'libcudart.so.10.1'; dlerror: libcudart.so.10.1: cannot open shared object file: No such file or directory\n",
      "2021-04-08 15:48:51.308949: I tensorflow/stream_executor/cuda/cudart_stub.cc:29] Ignore above cudart dlerror if you do not have a GPU set up on your machine.\n",
      "WARNING:absl:RuntimeParameter is only supported on Cloud-based DAG runner currently.\n",
      "INFO:absl:Current tfx image used: gcr.io/res-nbcupea-dev-ds-sandbox-001/tfx-pipeline@sha256:4ea79cbcf9bdde5f57842b4ea71168f1569613030bfa68e7b85d90f662a5e543\n",
      "INFO:absl:Excluding no splits because exclude_splits is not set.\n",
      "INFO:absl:Excluding no splits because exclude_splits is not set.\n",
      "INFO:absl:trainer arguments\n",
      "INFO:absl:{'run_fn': 'models.node2vec.model.run_fn', 'transformed_examples': Channel(\n",
      "    type_name: Examples\n",
      "    artifacts: []\n",
      "), 'schema': Channel(\n",
      "    type_name: Schema\n",
      "    artifacts: []\n",
      "), 'transform_graph': Channel(\n",
      "    type_name: TransformGraph\n",
      "    artifacts: []\n",
      "), 'train_args': splits: \"train\"\n",
      "num_steps: 100\n",
      ", 'eval_args': splits: \"train\"\n",
      "num_steps: 50\n",
      ", 'custom_config': {'model_config': {'query_script_path': 'data/graph_data.sql', 'query_debug_settings': '', 'num_epochs': 30, 'train_batch_size': 128, 'eval_batch_size': None, 'embed_size': 32, 'num_neg_samples': 15, 'walk_length': 30, 'train_repetitions': 6, 'eval_repetitions': 1, 'p': 1.0, 'q': 1.0, 'window_size': 8}, 'system_config': {'GCS_BUCKET_NAME': 'gs://edc-dev/kubeflowpipelines-default', 'GOOGLE_CLOUD_REGION': 'us-east1', 'GOOGLE_CLOUD_PROJECT': 'res-nbcupea-dev-ds-sandbox-001', 'ENDPOINT': 'df6bc4688870067-dot-us-east1.pipelines.googleusercontent.com', 'TFX_IMAGE': 'gcr.io/res-nbcupea-dev-ds-sandbox-001/tfx-pipeline', 'PIPELINE_ROOT': 'gs://edc-dev/kubeflowpipelines-default/tfx_pipeline_output/node2vec_sports_syn_0_1_0', 'MODEL_SERVE_DIR': 'gs://edc-dev/kubeflowpipelines-default/tfx_pipeline_output/node2vec_sports_syn_0_1_0/serving_model', 'DATAFLOW_BEAM_PIPELINE_ARGS': {'project': 'res-nbcupea-dev-ds-sandbox-001', 'runner': 'DataflowRunner', 'temp_location': 'gs://edc-dev/kubeflowpipelines-default/tmp', 'region': 'us-east1', 'disk_size_gb': 50, 'machine_type': 'e2-standard-8'}, 'GCP_AI_PLATFORM_TRAINING_ARGS': {'project': 'res-nbcupea-dev-ds-sandbox-001', 'region': 'us-east4', 'scaleTier': 'CUSTOM', 'masterType': 'n1-highmem-16', 'masterConfig': {'imageUri': 'gcr.io/res-nbcupea-dev-ds-sandbox-001/tfx-pipeline', 'acceleratorConfig': {'count': 1, 'type': 'NVIDIA_TESLA_P4'}}}, 'KUBEFLOW_RUNNER': 'kubeflow_runner.py', 'enable_cache': False, 'enable_gpc_ai_platform_training': True, 'preprocessing_fn': 'models.preprocessing.preprocessing_fn', 'run_fn': 'models.node2vec.model.run_fn'}, 'ai_platform_training_args': {'project': 'res-nbcupea-dev-ds-sandbox-001', 'region': 'us-east4', 'scaleTier': 'CUSTOM', 'masterType': 'n1-highmem-16', 'masterConfig': {'imageUri': 'gcr.io/res-nbcupea-dev-ds-sandbox-001/tfx-pipeline', 'acceleratorConfig': {'count': 1, 'type': 'NVIDIA_TESLA_P4'}}}, 'ai_platform_training_job_id': 'tfx_node2vec_sports_syn_0_1_0_20210408154854'}, 'custom_executor_spec': <tfx.dsl.components.base.executor_spec.ExecutorClassSpec object at 0x7f37cb14b950>}\n",
      "WARNING:absl:`instance_name` is deprecated, please set the node id directly using `with_id()` or the `.id` setter.\n",
      "INFO:absl:Adding upstream dependencies for component BigQueryExampleGen\n",
      "INFO:absl:Adding upstream dependencies for component StatisticsGen\n",
      "INFO:absl:   ->  Component: BigQueryExampleGen\n",
      "INFO:absl:Adding upstream dependencies for component SchemaGen\n",
      "INFO:absl:   ->  Component: StatisticsGen\n",
      "INFO:absl:Adding upstream dependencies for component Transform\n",
      "INFO:absl:   ->  Component: BigQueryExampleGen\n",
      "INFO:absl:   ->  Component: SchemaGen\n",
      "INFO:absl:Adding upstream dependencies for component Trainer\n",
      "INFO:absl:   ->  Component: SchemaGen\n",
      "INFO:absl:   ->  Component: Transform\n",
      "\u001b[0mPipeline compiled successfully.\n",
      "Pipeline package path: /home/jupyter/node2vec_pipeline/node2vec_sports_syn_0_1_0.tar.gz\n",
      "{'created_at': datetime.datetime(2021, 4, 8, 15, 48, 55, tzinfo=tzlocal()),\n",
      " 'default_version': {'code_source_url': None,\n",
      "                     'created_at': datetime.datetime(2021, 4, 8, 15, 48, 55, tzinfo=tzlocal()),\n",
      "                     'id': '726d592c-5035-43e9-8d3d-66c0ead84643',\n",
      "                     'name': 'node2vec_sports_syn_0_1_0',\n",
      "                     'package_url': None,\n",
      "                     'parameters': [{'name': 'pipeline-root',\n",
      "                                     'value': 'gs://edc-dev/kubeflowpipelines-default/tfx_pipeline_output/node2vec_sports_syn_0_1_0'}],\n",
      "                     'resource_references': [{'key': {'id': '726d592c-5035-43e9-8d3d-66c0ead84643',\n",
      "                                                      'type': 'PIPELINE'},\n",
      "                                              'name': None,\n",
      "                                              'relationship': 'OWNER'}]},\n",
      " 'description': None,\n",
      " 'error': None,\n",
      " 'id': '726d592c-5035-43e9-8d3d-66c0ead84643',\n",
      " 'name': 'node2vec_sports_syn_0_1_0',\n",
      " 'parameters': [{'name': 'pipeline-root',\n",
      "                 'value': 'gs://edc-dev/kubeflowpipelines-default/tfx_pipeline_output/node2vec_sports_syn_0_1_0'}],\n",
      " 'url': None}\n",
      "Please access the pipeline detail page at https://df6bc4688870067-dot-us-east1.pipelines.googleusercontent.com/#/pipelines/details/726d592c-5035-43e9-8d3d-66c0ead84643\n",
      "Pipeline \"node2vec_sports_syn_0_1_0\" created successfully.\n"
     ]
    }
   ],
   "source": [
    "# Initial build: need to rebuilt \n",
    "# every time there is a version change\n",
    "!tfx pipeline create  \\\n",
    "--pipeline-path=/home/jupyter/node2vec_pipeline/kubeflow_runner.py \\\n",
    "--endpoint={ENDPOINT} \\\n",
    "--build-target-image={CUSTOM_TFX_IMAGE}"
   ]
  },
  {
   "cell_type": "code",
   "execution_count": 45,
   "id": "failing-alloy",
   "metadata": {
    "ExecuteTime": {
     "end_time": "2021-04-08T15:49:16.526046Z",
     "start_time": "2021-04-08T15:49:11.624237Z"
    },
    "deletable": false,
    "editable": false,
    "run_control": {
     "frozen": true
    },
    "scrolled": true
   },
   "outputs": [
    {
     "name": "stdout",
     "output_type": "stream",
     "text": [
      "2021-04-08 15:49:12.051453: W tensorflow/stream_executor/platform/default/dso_loader.cc:59] Could not load dynamic library 'libcudart.so.10.1'; dlerror: libcudart.so.10.1: cannot open shared object file: No such file or directory\n",
      "2021-04-08 15:49:12.051519: I tensorflow/stream_executor/cuda/cudart_stub.cc:29] Ignore above cudart dlerror if you do not have a GPU set up on your machine.\n",
      "CLI\n",
      "Creating a run for pipeline: node2vec_sports_syn_0_1_0\n",
      "Detected Kubeflow.\n",
      "Use --engine flag if you intend to use a different orchestrator.\n",
      "Run created for pipeline: node2vec_sports_syn_0_1_0\n",
      "+---------------------------+--------------------------------------+----------+---------------------------+--------------------------------------------------------------------------------------------------------------------------+\n",
      "| pipeline_name             | run_id                               | status   | created_at                | link                                                                                                                     |\n",
      "+===========================+======================================+==========+===========================+==========================================================================================================================+\n",
      "| node2vec_sports_syn_0_1_0 | 8ddb58c7-c1c5-42ff-abc2-74c19b0727f0 |          | 2021-04-08T15:49:15+00:00 | https://df6bc4688870067-dot-us-east1.pipelines.googleusercontent.com/#/runs/details/8ddb58c7-c1c5-42ff-abc2-74c19b0727f0 |\n",
      "+---------------------------+--------------------------------------+----------+---------------------------+--------------------------------------------------------------------------------------------------------------------------+\n"
     ]
    }
   ],
   "source": [
    "PIPELINE_NAME = \"node2vec_sports_syn_0_1_0\"\n",
    "!tfx run create --pipeline-name {PIPELINE_NAME} --endpoint={ENDPOINT}"
   ]
  },
  {
   "cell_type": "code",
   "execution_count": 71,
   "id": "employed-poison",
   "metadata": {
    "ExecuteTime": {
     "end_time": "2021-04-08T23:14:21.191322Z",
     "start_time": "2021-04-08T23:13:47.743482Z"
    },
    "scrolled": true
   },
   "outputs": [
    {
     "name": "stdout",
     "output_type": "stream",
     "text": [
      "2021-04-08 23:13:48.206235: W tensorflow/stream_executor/platform/default/dso_loader.cc:59] Could not load dynamic library 'libcudart.so.10.1'; dlerror: libcudart.so.10.1: cannot open shared object file: No such file or directory\n",
      "2021-04-08 23:13:48.206286: I tensorflow/stream_executor/cuda/cudart_stub.cc:29] Ignore above cudart dlerror if you do not have a GPU set up on your machine.\n",
      "CLI\n",
      "Updating pipeline\n",
      "Detected Kubeflow.\n",
      "Use --engine flag if you intend to use a different orchestrator.\n",
      "Reading build spec from build.yaml\n",
      "[Skaffold] Generating tags...\n",
      "[Skaffold]  - gcr.io/res-nbcupea-dev-ds-sandbox-001/tfx-pipeline -> gcr.io/res-nbcupea-dev-ds-sandbox-001/tfx-pipeline:latest\n",
      "[Skaffold] Checking cache...\n",
      "[Skaffold]  - gcr.io/res-nbcupea-dev-ds-sandbox-001/tfx-pipeline: Not found. Building\n",
      "[Skaffold] Starting build...\n",
      "[Skaffold] Building [gcr.io/res-nbcupea-dev-ds-sandbox-001/tfx-pipeline]...\n",
      "[Skaffold] Sending build context to Docker daemon  72.94MB\n",
      "[Skaffold] Step 1/4 : FROM tensorflow/tfx:0.26.0\n",
      "[Skaffold]  ---> 3230796f5988\n",
      "[Skaffold] Step 2/4 : WORKDIR /pipeline\n",
      "[Skaffold]  ---> Using cache\n",
      "[Skaffold]  ---> ddad9cd6ca10\n",
      "[Skaffold] Step 3/4 : COPY ./ ./\n",
      "[Skaffold]  ---> fe9dabd3b49e\n",
      "[Skaffold] Step 4/4 : ENV PYTHONPATH=\"/pipeline:${PYTHONPATH}\"\n",
      "[Skaffold]  ---> Running in f6fd4d734d96\n",
      "[Skaffold] Removing intermediate container f6fd4d734d96\n",
      "[Skaffold]  ---> fc40c2c7d5c8\n",
      "[Skaffold] Successfully built fc40c2c7d5c8\n",
      "[Skaffold] Successfully tagged gcr.io/res-nbcupea-dev-ds-sandbox-001/tfx-pipeline:latest\n",
      "[Skaffold] The push refers to repository [gcr.io/res-nbcupea-dev-ds-sandbox-001/tfx-pipeline]\n",
      "[Skaffold] d95a74c5ae09: Preparing\n",
      "[Skaffold] f59694ec6d1f: Preparing\n",
      "[Skaffold] 23b988d0a368: Preparing\n",
      "[Skaffold] a0fdd9e79e13: Preparing\n",
      "[Skaffold] 7ed3e18de502: Preparing\n",
      "[Skaffold] fd335a0d8c48: Preparing\n",
      "[Skaffold] 7d985a940d09: Preparing\n",
      "[Skaffold] 4058ae03fa32: Preparing\n",
      "[Skaffold] e3437c61d457: Preparing\n",
      "[Skaffold] 84ff92691f90: Preparing\n",
      "[Skaffold] 54b00d861a7a: Preparing\n",
      "[Skaffold] c547358928ab: Preparing\n",
      "[Skaffold] 84ff92691f90: Preparing\n",
      "[Skaffold] c4e66be694ce: Preparing\n",
      "[Skaffold] 47cc65c6dd57: Preparing\n",
      "[Skaffold] fd335a0d8c48: Waiting\n",
      "[Skaffold] 7d985a940d09: Waiting\n",
      "[Skaffold] 4058ae03fa32: Waiting\n",
      "[Skaffold] e3437c61d457: Waiting\n",
      "[Skaffold] 84ff92691f90: Waiting\n",
      "[Skaffold] 54b00d861a7a: Waiting\n",
      "[Skaffold] c547358928ab: Waiting\n",
      "[Skaffold] c4e66be694ce: Waiting\n",
      "[Skaffold] 47cc65c6dd57: Waiting\n",
      "[Skaffold] f59694ec6d1f: Layer already exists\n",
      "[Skaffold] 23b988d0a368: Layer already exists\n",
      "[Skaffold] a0fdd9e79e13: Layer already exists\n",
      "[Skaffold] 7ed3e18de502: Layer already exists\n",
      "[Skaffold] 4058ae03fa32: Layer already exists\n",
      "[Skaffold] 7d985a940d09: Layer already exists\n",
      "[Skaffold] fd335a0d8c48: Layer already exists\n",
      "[Skaffold] e3437c61d457: Layer already exists\n",
      "[Skaffold] 54b00d861a7a: Layer already exists\n",
      "[Skaffold] 84ff92691f90: Layer already exists\n",
      "[Skaffold] c547358928ab: Layer already exists\n",
      "[Skaffold] c4e66be694ce: Layer already exists\n",
      "[Skaffold] 47cc65c6dd57: Layer already exists\n",
      "[Skaffold] d95a74c5ae09: Pushed\n",
      "[Skaffold] latest: digest: sha256:ba35fd7f600f80df8eddca84b390b1603c2b8895c4c36c400ca81eafa52a9fc8 size: 3482\n",
      "New container image is built. Target image is available in the build spec file.\n",
      "2021-04-08 23:14:10.619982: W tensorflow/stream_executor/platform/default/dso_loader.cc:59] Could not load dynamic library 'libcudart.so.10.1'; dlerror: libcudart.so.10.1: cannot open shared object file: No such file or directory\n",
      "2021-04-08 23:14:10.620135: I tensorflow/stream_executor/cuda/cudart_stub.cc:29] Ignore above cudart dlerror if you do not have a GPU set up on your machine.\n",
      "WARNING:absl:RuntimeParameter is only supported on Cloud-based DAG runner currently.\n",
      "INFO:absl:Current tfx image used: gcr.io/res-nbcupea-dev-ds-sandbox-001/tfx-pipeline@sha256:ba35fd7f600f80df8eddca84b390b1603c2b8895c4c36c400ca81eafa52a9fc8\n",
      "INFO:absl:Excluding no splits because exclude_splits is not set.\n",
      "INFO:absl:Excluding no splits because exclude_splits is not set.\n",
      "INFO:absl:trainer arguments\n",
      "INFO:absl:{'run_fn': 'models.node2vec.model.run_fn', 'transformed_examples': Channel(\n",
      "    type_name: Examples\n",
      "    artifacts: []\n",
      "), 'schema': Channel(\n",
      "    type_name: Schema\n",
      "    artifacts: []\n",
      "), 'transform_graph': Channel(\n",
      "    type_name: TransformGraph\n",
      "    artifacts: []\n",
      "), 'train_args': splits: \"train\"\n",
      "num_steps: 100\n",
      ", 'eval_args': splits: \"train\"\n",
      "num_steps: 50\n",
      ", 'custom_config': {'model_config': {'query_script_path': 'data/graph_data.sql', 'query_debug_settings': '', 'seed': 42, 'num_epochs': 30, 'train_batch_size': 128, 'eval_batch_size': None, 'embed_size': 32, 'num_neg_samples': 15, 'walk_length': 30, 'train_repetitions': 6, 'eval_repetitions': 1, 'p': 1.0, 'q': 1.0, 'window_size': 8}, 'system_config': {'GCS_BUCKET_NAME': 'gs://edc-dev/kubeflowpipelines-default', 'GOOGLE_CLOUD_REGION': 'us-east1', 'GOOGLE_CLOUD_PROJECT': 'res-nbcupea-dev-ds-sandbox-001', 'ENDPOINT': 'df6bc4688870067-dot-us-east1.pipelines.googleusercontent.com', 'TFX_IMAGE': 'gcr.io/res-nbcupea-dev-ds-sandbox-001/tfx-pipeline', 'PIPELINE_ROOT': 'gs://edc-dev/kubeflowpipelines-default/tfx_pipeline_output/node2vec_sports_syn_0_1_0', 'MODEL_SERVE_DIR': 'gs://edc-dev/kubeflowpipelines-default/tfx_pipeline_output/node2vec_sports_syn_0_1_0/serving_model', 'DATAFLOW_BEAM_PIPELINE_ARGS': {'project': 'res-nbcupea-dev-ds-sandbox-001', 'runner': 'DataflowRunner', 'temp_location': 'gs://edc-dev/kubeflowpipelines-default/tmp', 'region': 'us-east1', 'disk_size_gb': 50, 'machine_type': 'e2-standard-8'}, 'GCP_AI_PLATFORM_TRAINING_ARGS': {'project': 'res-nbcupea-dev-ds-sandbox-001', 'region': 'us-east4', 'scaleTier': 'CUSTOM', 'masterType': 'n1-highmem-16', 'masterConfig': {'imageUri': 'gcr.io/res-nbcupea-dev-ds-sandbox-001/tfx-pipeline', 'acceleratorConfig': {'count': 1, 'type': 'NVIDIA_TESLA_P4'}}}, 'KUBEFLOW_RUNNER': 'kubeflow_runner.py', 'enable_cache': True, 'enable_gpc_ai_platform_training': False, 'preprocessing_fn': 'models.preprocessing.preprocessing_fn', 'run_fn': 'models.node2vec.model.run_fn'}}, 'custom_executor_spec': <tfx.dsl.components.base.executor_spec.ExecutorClassSpec object at 0x7f102d576810>}\n",
      "WARNING:absl:`instance_name` is deprecated, please set the node id directly using `with_id()` or the `.id` setter.\n",
      "INFO:absl:Adding upstream dependencies for component BigQueryExampleGen\n",
      "INFO:absl:Adding upstream dependencies for component StatisticsGen\n",
      "INFO:absl:   ->  Component: BigQueryExampleGen\n",
      "INFO:absl:Adding upstream dependencies for component SchemaGen\n",
      "INFO:absl:   ->  Component: StatisticsGen\n",
      "INFO:absl:Adding upstream dependencies for component Transform\n",
      "INFO:absl:   ->  Component: SchemaGen\n",
      "INFO:absl:   ->  Component: BigQueryExampleGen\n",
      "INFO:absl:Adding upstream dependencies for component Trainer\n",
      "INFO:absl:   ->  Component: SchemaGen\n",
      "INFO:absl:   ->  Component: Transform\n",
      "\u001b[0mPipeline compiled successfully.\n",
      "Pipeline package path: /home/jupyter/node2vec_pipeline/node2vec_sports_syn_0_1_0.tar.gz\n",
      "{'code_source_url': None,\n",
      " 'created_at': datetime.datetime(2021, 4, 8, 23, 14, 14, tzinfo=tzlocal()),\n",
      " 'id': '2edb511e-019c-4707-bdb7-074b2c977ea2',\n",
      " 'name': 'node2vec_sports_syn_0_1_0_20210408231414',\n",
      " 'package_url': None,\n",
      " 'parameters': [{'name': 'pipeline-root',\n",
      "                 'value': 'gs://edc-dev/kubeflowpipelines-default/tfx_pipeline_output/node2vec_sports_syn_0_1_0'}],\n",
      " 'resource_references': [{'key': {'id': '726d592c-5035-43e9-8d3d-66c0ead84643',\n",
      "                                  'type': 'PIPELINE'},\n",
      "                          'name': None,\n",
      "                          'relationship': 'OWNER'}]}\n",
      "Please access the pipeline detail page at https://df6bc4688870067-dot-us-east1.pipelines.googleusercontent.com/#/pipelines/details/726d592c-5035-43e9-8d3d-66c0ead84643\n",
      "Pipeline \"node2vec_sports_syn_0_1_0\" updated successfully.\n",
      "2021-04-08 23:14:16.259422: W tensorflow/stream_executor/platform/default/dso_loader.cc:59] Could not load dynamic library 'libcudart.so.10.1'; dlerror: libcudart.so.10.1: cannot open shared object file: No such file or directory\n",
      "2021-04-08 23:14:16.259473: I tensorflow/stream_executor/cuda/cudart_stub.cc:29] Ignore above cudart dlerror if you do not have a GPU set up on your machine.\n"
     ]
    },
    {
     "name": "stdout",
     "output_type": "stream",
     "text": [
      "CLI\n",
      "Creating a run for pipeline: node2vec_sports_syn_0_1_0\n",
      "Detected Kubeflow.\n",
      "Use --engine flag if you intend to use a different orchestrator.\n",
      "Run created for pipeline: node2vec_sports_syn_0_1_0\n",
      "+---------------------------+--------------------------------------+----------+---------------------------+--------------------------------------------------------------------------------------------------------------------------+\n",
      "| pipeline_name             | run_id                               | status   | created_at                | link                                                                                                                     |\n",
      "+===========================+======================================+==========+===========================+==========================================================================================================================+\n",
      "| node2vec_sports_syn_0_1_0 | e5439815-3ba9-4cd2-b959-9ad219328837 |          | 2021-04-08T23:14:19+00:00 | https://df6bc4688870067-dot-us-east1.pipelines.googleusercontent.com/#/runs/details/e5439815-3ba9-4cd2-b959-9ad219328837 |\n",
      "+---------------------------+--------------------------------------+----------+---------------------------+--------------------------------------------------------------------------------------------------------------------------+\n"
     ]
    }
   ],
   "source": [
    "# Update\n",
    "!tfx pipeline update \\\n",
    "--pipeline-path=/home/jupyter/node2vec_pipeline/kubeflow_runner.py \\\n",
    "--endpoint={ENDPOINT}\n",
    "\n",
    "PIPELINE_NAME = \"node2vec_sports_syn_0_1_0\"\n",
    "!tfx run create --pipeline-name {PIPELINE_NAME} --endpoint={ENDPOINT}"
   ]
  },
  {
   "cell_type": "code",
   "execution_count": null,
   "id": "joint-invention",
   "metadata": {},
   "outputs": [],
   "source": []
  }
 ],
 "metadata": {
  "environment": {
   "name": "common-cpu.m65",
   "type": "gcloud",
   "uri": "gcr.io/deeplearning-platform-release/base-cpu:m65"
  },
  "kernelspec": {
   "display_name": "Python 3",
   "language": "python",
   "name": "python3"
  },
  "language_info": {
   "codemirror_mode": {
    "name": "ipython",
    "version": 3
   },
   "file_extension": ".py",
   "mimetype": "text/x-python",
   "name": "python",
   "nbconvert_exporter": "python",
   "pygments_lexer": "ipython3",
   "version": "3.7.10"
  },
  "toc": {
   "base_numbering": 1,
   "nav_menu": {},
   "number_sections": true,
   "sideBar": true,
   "skip_h1_title": false,
   "title_cell": "Table of Contents",
   "title_sidebar": "Contents",
   "toc_cell": false,
   "toc_position": {},
   "toc_section_display": true,
   "toc_window_display": false
  }
 },
 "nbformat": 4,
 "nbformat_minor": 5
}
