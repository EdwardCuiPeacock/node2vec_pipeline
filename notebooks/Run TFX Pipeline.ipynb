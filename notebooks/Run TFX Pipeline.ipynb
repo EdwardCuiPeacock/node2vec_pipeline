{
 "cells": [
  {
   "cell_type": "code",
   "execution_count": 2,
   "id": "changing-cigarette",
   "metadata": {
    "ExecuteTime": {
     "end_time": "2021-04-01T14:15:27.427202Z",
     "start_time": "2021-04-01T14:15:27.420113Z"
    }
   },
   "outputs": [
    {
     "name": "stdout",
     "output_type": "stream",
     "text": [
      "/home/jupyter/node2vec_pipeline\n"
     ]
    }
   ],
   "source": [
    "%cd /home/jupyter/node2vec_pipeline"
   ]
  },
  {
   "cell_type": "code",
   "execution_count": 3,
   "id": "broken-aircraft",
   "metadata": {
    "ExecuteTime": {
     "end_time": "2021-04-01T14:17:03.416584Z",
     "start_time": "2021-04-01T14:17:03.412687Z"
    }
   },
   "outputs": [],
   "source": [
    "GOOGLE_CLOUD_PROJECT = \"res-nbcupea-dev-ds-sandbox-001\"\n",
    "ENDPOINT='https://df6bc4688870067-dot-us-east1.pipelines.googleusercontent.com' # Enter your ENDPOINT here.\n",
    "CUSTOM_TFX_IMAGE = CUSTOM_TFX_IMAGE='gcr.io/' + GOOGLE_CLOUD_PROJECT + '/tfx-pipeline'"
   ]
  },
  {
   "cell_type": "code",
   "execution_count": 15,
   "id": "south-turner",
   "metadata": {
    "ExecuteTime": {
     "end_time": "2021-04-01T14:23:31.197393Z",
     "start_time": "2021-04-01T14:23:31.191372Z"
    }
   },
   "outputs": [
    {
     "name": "stdout",
     "output_type": "stream",
     "text": [
      "env: PATH=/opt/conda/bin:/opt/conda/condabin:/usr/local/bin:/usr/bin:/bin:/usr/local/games:/usr/games:/home/jupyter/node2vec_pipeline/bin:/home/jupyter/.local/bin\n"
     ]
    }
   ],
   "source": [
    "# Set `PATH` to include user python binary directory and a directory containing `skaffold`, as well as `tfx`\n",
    "PATH=%env PATH\n",
    "%env PATH={PATH}:/home/jupyter/.local/bin"
   ]
  },
  {
   "cell_type": "code",
   "execution_count": 31,
   "id": "above-creativity",
   "metadata": {
    "ExecuteTime": {
     "end_time": "2021-04-01T15:25:36.799951Z",
     "start_time": "2021-04-01T15:25:08.491366Z"
    },
    "scrolled": true
   },
   "outputs": [
    {
     "name": "stdout",
     "output_type": "stream",
     "text": [
      "2021-04-01 15:25:08.997732: W tensorflow/stream_executor/platform/default/dso_loader.cc:59] Could not load dynamic library 'libcudart.so.10.1'; dlerror: libcudart.so.10.1: cannot open shared object file: No such file or directory\n",
      "2021-04-01 15:25:08.997791: I tensorflow/stream_executor/cuda/cudart_stub.cc:29] Ignore above cudart dlerror if you do not have a GPU set up on your machine.\n",
      "CLI\n",
      "Creating pipeline\n",
      "Detected Kubeflow.\n",
      "Use --engine flag if you intend to use a different orchestrator.\n",
      "Reading build spec from build.yaml\n",
      "No local setup.py, copying the directory and configuring the PYTHONPATH.\n",
      "[Skaffold] Generating tags...\n",
      "[Skaffold]  - gcr.io/res-nbcupea-dev-ds-sandbox-001/tfx-pipeline -> gcr.io/res-nbcupea-dev-ds-sandbox-001/tfx-pipeline:latest\n",
      "[Skaffold] Checking cache...\n",
      "[Skaffold]  - gcr.io/res-nbcupea-dev-ds-sandbox-001/tfx-pipeline: Not found. Building\n",
      "[Skaffold] Starting build...\n",
      "[Skaffold] Building [gcr.io/res-nbcupea-dev-ds-sandbox-001/tfx-pipeline]...\n",
      "[Skaffold] Sending build context to Docker daemon  71.98MB\n",
      "[Skaffold] Step 1/4 : FROM tensorflow/tfx:0.26.0\n",
      "[Skaffold]  ---> 3230796f5988\n",
      "[Skaffold] Step 2/4 : WORKDIR /pipeline\n",
      "[Skaffold]  ---> Using cache\n",
      "[Skaffold]  ---> ddad9cd6ca10\n",
      "[Skaffold] Step 3/4 : COPY ./ ./\n",
      "[Skaffold]  ---> 4dab0707cdf0\n",
      "[Skaffold] Step 4/4 : ENV PYTHONPATH=\"/pipeline:${PYTHONPATH}\"\n",
      "[Skaffold]  ---> Running in ee0774b3fc87\n",
      "[Skaffold] Removing intermediate container ee0774b3fc87\n",
      "[Skaffold]  ---> d15258fb0da9\n",
      "[Skaffold] Successfully built d15258fb0da9\n",
      "[Skaffold] Successfully tagged gcr.io/res-nbcupea-dev-ds-sandbox-001/tfx-pipeline:latest\n",
      "[Skaffold] The push refers to repository [gcr.io/res-nbcupea-dev-ds-sandbox-001/tfx-pipeline]\n",
      "[Skaffold] 2614b2cacf2d: Preparing\n",
      "[Skaffold] f59694ec6d1f: Preparing\n",
      "[Skaffold] 23b988d0a368: Preparing\n",
      "[Skaffold] a0fdd9e79e13: Preparing\n",
      "[Skaffold] 7ed3e18de502: Preparing\n",
      "[Skaffold] fd335a0d8c48: Preparing\n",
      "[Skaffold] 7d985a940d09: Preparing\n",
      "[Skaffold] 4058ae03fa32: Preparing\n",
      "[Skaffold] e3437c61d457: Preparing\n",
      "[Skaffold] 84ff92691f90: Preparing\n",
      "[Skaffold] 54b00d861a7a: Preparing\n",
      "[Skaffold] c547358928ab: Preparing\n",
      "[Skaffold] 84ff92691f90: Preparing\n",
      "[Skaffold] c4e66be694ce: Preparing\n",
      "[Skaffold] 47cc65c6dd57: Preparing\n",
      "[Skaffold] fd335a0d8c48: Waiting\n",
      "[Skaffold] 7d985a940d09: Waiting\n",
      "[Skaffold] 4058ae03fa32: Waiting\n",
      "[Skaffold] c547358928ab: Waiting\n",
      "[Skaffold] c4e66be694ce: Waiting\n",
      "[Skaffold] 47cc65c6dd57: Waiting\n",
      "[Skaffold] e3437c61d457: Waiting\n",
      "[Skaffold] 54b00d861a7a: Waiting\n",
      "[Skaffold] 84ff92691f90: Waiting\n",
      "[Skaffold] a0fdd9e79e13: Layer already exists\n",
      "[Skaffold] 23b988d0a368: Layer already exists\n",
      "[Skaffold] f59694ec6d1f: Layer already exists\n",
      "[Skaffold] 7ed3e18de502: Layer already exists\n",
      "[Skaffold] fd335a0d8c48: Layer already exists\n",
      "[Skaffold] 4058ae03fa32: Layer already exists\n",
      "[Skaffold] 7d985a940d09: Layer already exists\n",
      "[Skaffold] e3437c61d457: Layer already exists\n",
      "[Skaffold] 84ff92691f90: Layer already exists\n",
      "[Skaffold] 54b00d861a7a: Layer already exists\n",
      "[Skaffold] c4e66be694ce: Layer already exists\n",
      "[Skaffold] c547358928ab: Layer already exists\n",
      "[Skaffold] 47cc65c6dd57: Layer already exists\n",
      "[Skaffold] 2614b2cacf2d: Pushed\n",
      "[Skaffold] latest: digest: sha256:35031a68edef33d276f1963dfed0de6700d4ef802876ce5e6df73601ffa8b260 size: 3482\n",
      "New container image is built. Target image is available in the build spec file.\n",
      "2021-04-01 15:25:32.202935: W tensorflow/stream_executor/platform/default/dso_loader.cc:59] Could not load dynamic library 'libcudart.so.10.1'; dlerror: libcudart.so.10.1: cannot open shared object file: No such file or directory\n",
      "2021-04-01 15:25:32.203001: I tensorflow/stream_executor/cuda/cudart_stub.cc:29] Ignore above cudart dlerror if you do not have a GPU set up on your machine.\n",
      "WARNING:absl:RuntimeParameter is only supported on Cloud-based DAG runner currently.\n",
      "INFO:absl:Current tfx image used: gcr.io/res-nbcupea-dev-ds-sandbox-001/tfx-pipeline@sha256:35031a68edef33d276f1963dfed0de6700d4ef802876ce5e6df73601ffa8b260\n",
      "INFO:absl:Excluding no splits because exclude_splits is not set.\n",
      "INFO:absl:Excluding no splits because exclude_splits is not set.\n",
      "WARNING:absl:`instance_name` is deprecated, please set the node id directly using `with_id()` or the `.id` setter.\n",
      "INFO:absl:Adding upstream dependencies for component BigQueryExampleGen\n",
      "INFO:absl:Adding upstream dependencies for component StatisticsGen\n",
      "INFO:absl:   ->  Component: BigQueryExampleGen\n",
      "INFO:absl:Adding upstream dependencies for component SchemaGen\n",
      "INFO:absl:   ->  Component: StatisticsGen\n",
      "INFO:absl:Adding upstream dependencies for component Transform\n",
      "INFO:absl:   ->  Component: BigQueryExampleGen\n",
      "INFO:absl:   ->  Component: SchemaGen\n",
      "INFO:absl:Adding upstream dependencies for component Trainer\n",
      "INFO:absl:   ->  Component: SchemaGen\n",
      "INFO:absl:   ->  Component: Transform\n",
      "\u001b[0mPipeline compiled successfully.\n",
      "Pipeline package path: /home/jupyter/node2vec_pipeline/node2vec_sports_syn_0_0_0.tar.gz\n",
      "Pipeline \"node2vec_sports_syn_0_0_0\" already exists.\n"
     ]
    }
   ],
   "source": [
    "# Initial build\n",
    "!tfx pipeline create  \\\n",
    "--pipeline-path=/home/jupyter/node2vec_pipeline/kubeflow_runner.py \\\n",
    "--endpoint={ENDPOINT} \\\n",
    "--build-target-image={CUSTOM_TFX_IMAGE}"
   ]
  },
  {
   "cell_type": "code",
   "execution_count": 40,
   "id": "noticed-bleeding",
   "metadata": {
    "ExecuteTime": {
     "end_time": "2021-04-01T16:12:16.926872Z",
     "start_time": "2021-04-01T16:11:48.577570Z"
    },
    "scrolled": true
   },
   "outputs": [
    {
     "name": "stdout",
     "output_type": "stream",
     "text": [
      "2021-04-01 16:11:49.058868: W tensorflow/stream_executor/platform/default/dso_loader.cc:59] Could not load dynamic library 'libcudart.so.10.1'; dlerror: libcudart.so.10.1: cannot open shared object file: No such file or directory\n",
      "2021-04-01 16:11:49.058922: I tensorflow/stream_executor/cuda/cudart_stub.cc:29] Ignore above cudart dlerror if you do not have a GPU set up on your machine.\n",
      "CLI\n",
      "Updating pipeline\n",
      "Detected Kubeflow.\n",
      "Use --engine flag if you intend to use a different orchestrator.\n",
      "Reading build spec from build.yaml\n",
      "[Skaffold] Generating tags...\n",
      "[Skaffold]  - gcr.io/res-nbcupea-dev-ds-sandbox-001/tfx-pipeline -> gcr.io/res-nbcupea-dev-ds-sandbox-001/tfx-pipeline:latest\n",
      "[Skaffold] Checking cache...\n",
      "[Skaffold]  - gcr.io/res-nbcupea-dev-ds-sandbox-001/tfx-pipeline: Not found. Building\n",
      "[Skaffold] Starting build...\n",
      "[Skaffold] Building [gcr.io/res-nbcupea-dev-ds-sandbox-001/tfx-pipeline]...\n",
      "[Skaffold] Sending build context to Docker daemon  72.01MB\n",
      "[Skaffold] Step 1/4 : FROM tensorflow/tfx:0.26.0\n",
      "[Skaffold]  ---> 3230796f5988\n",
      "[Skaffold] Step 2/4 : WORKDIR /pipeline\n",
      "[Skaffold]  ---> Using cache\n",
      "[Skaffold]  ---> ddad9cd6ca10\n",
      "[Skaffold] Step 3/4 : COPY ./ ./\n",
      "[Skaffold]  ---> f4a69945a542\n",
      "[Skaffold] Step 4/4 : ENV PYTHONPATH=\"/pipeline:${PYTHONPATH}\"\n",
      "[Skaffold]  ---> Running in 00a93e1699f5\n",
      "[Skaffold] Removing intermediate container 00a93e1699f5\n",
      "[Skaffold]  ---> 8d8fef8f4d58\n",
      "[Skaffold] Successfully built 8d8fef8f4d58\n",
      "[Skaffold] Successfully tagged gcr.io/res-nbcupea-dev-ds-sandbox-001/tfx-pipeline:latest\n",
      "[Skaffold] The push refers to repository [gcr.io/res-nbcupea-dev-ds-sandbox-001/tfx-pipeline]\n",
      "[Skaffold] cf90087100f7: Preparing\n",
      "[Skaffold] f59694ec6d1f: Preparing\n",
      "[Skaffold] 23b988d0a368: Preparing\n",
      "[Skaffold] a0fdd9e79e13: Preparing\n",
      "[Skaffold] 7ed3e18de502: Preparing\n",
      "[Skaffold] fd335a0d8c48: Preparing\n",
      "[Skaffold] 7d985a940d09: Preparing\n",
      "[Skaffold] 4058ae03fa32: Preparing\n",
      "[Skaffold] e3437c61d457: Preparing\n",
      "[Skaffold] 84ff92691f90: Preparing\n",
      "[Skaffold] 54b00d861a7a: Preparing\n",
      "[Skaffold] c547358928ab: Preparing\n",
      "[Skaffold] 84ff92691f90: Preparing\n",
      "[Skaffold] c4e66be694ce: Preparing\n",
      "[Skaffold] 47cc65c6dd57: Preparing\n",
      "[Skaffold] fd335a0d8c48: Waiting\n",
      "[Skaffold] 54b00d861a7a: Waiting\n",
      "[Skaffold] c547358928ab: Waiting\n",
      "[Skaffold] 7d985a940d09: Waiting\n",
      "[Skaffold] 4058ae03fa32: Waiting\n",
      "[Skaffold] e3437c61d457: Waiting\n",
      "[Skaffold] 84ff92691f90: Waiting\n",
      "[Skaffold] c4e66be694ce: Waiting\n",
      "[Skaffold] 47cc65c6dd57: Waiting\n",
      "[Skaffold] 7ed3e18de502: Layer already exists\n",
      "[Skaffold] 23b988d0a368: Layer already exists\n",
      "[Skaffold] f59694ec6d1f: Layer already exists\n",
      "[Skaffold] a0fdd9e79e13: Layer already exists\n",
      "[Skaffold] fd335a0d8c48: Layer already exists\n",
      "[Skaffold] 7d985a940d09: Layer already exists\n",
      "[Skaffold] 4058ae03fa32: Layer already exists\n",
      "[Skaffold] e3437c61d457: Layer already exists\n",
      "[Skaffold] 54b00d861a7a: Layer already exists\n",
      "[Skaffold] 84ff92691f90: Layer already exists\n",
      "[Skaffold] c4e66be694ce: Layer already exists\n",
      "[Skaffold] c547358928ab: Layer already exists\n",
      "[Skaffold] 47cc65c6dd57: Layer already exists\n",
      "[Skaffold] cf90087100f7: Pushed\n",
      "[Skaffold] latest: digest: sha256:b3d31bfc38595fb78daf2c73e289ca35cbb423eb7a93b3da1c43055cd1d2cdee size: 3482\n",
      "New container image is built. Target image is available in the build spec file.\n",
      "2021-04-01 16:12:12.226788: W tensorflow/stream_executor/platform/default/dso_loader.cc:59] Could not load dynamic library 'libcudart.so.10.1'; dlerror: libcudart.so.10.1: cannot open shared object file: No such file or directory\n",
      "2021-04-01 16:12:12.226849: I tensorflow/stream_executor/cuda/cudart_stub.cc:29] Ignore above cudart dlerror if you do not have a GPU set up on your machine.\n",
      "WARNING:absl:RuntimeParameter is only supported on Cloud-based DAG runner currently.\n",
      "INFO:absl:Current tfx image used: gcr.io/res-nbcupea-dev-ds-sandbox-001/tfx-pipeline@sha256:b3d31bfc38595fb78daf2c73e289ca35cbb423eb7a93b3da1c43055cd1d2cdee\n",
      "INFO:absl:Excluding no splits because exclude_splits is not set.\n",
      "INFO:absl:Excluding no splits because exclude_splits is not set.\n",
      "WARNING:absl:`instance_name` is deprecated, please set the node id directly using `with_id()` or the `.id` setter.\n",
      "INFO:absl:Adding upstream dependencies for component BigQueryExampleGen\n",
      "INFO:absl:Adding upstream dependencies for component StatisticsGen\n",
      "INFO:absl:   ->  Component: BigQueryExampleGen\n",
      "INFO:absl:Adding upstream dependencies for component SchemaGen\n",
      "INFO:absl:   ->  Component: StatisticsGen\n",
      "INFO:absl:Adding upstream dependencies for component Transform\n",
      "INFO:absl:   ->  Component: BigQueryExampleGen\n",
      "INFO:absl:   ->  Component: SchemaGen\n",
      "INFO:absl:Adding upstream dependencies for component Trainer\n",
      "INFO:absl:   ->  Component: SchemaGen\n",
      "INFO:absl:   ->  Component: Transform\n",
      "\u001b[0mPipeline compiled successfully.\n",
      "Pipeline package path: /home/jupyter/node2vec_pipeline/node2vec_sports_syn_0_0_0.tar.gz\n",
      "{'code_source_url': None,\n",
      " 'created_at': datetime.datetime(2021, 4, 1, 16, 12, 16, tzinfo=tzlocal()),\n",
      " 'id': '7fa7636c-2b4f-45d6-ba4f-7be643f2ab79',\n",
      " 'name': 'node2vec_sports_syn_0_0_0_20210401161216',\n",
      " 'package_url': None,\n",
      " 'parameters': [{'name': 'pipeline-root',\n",
      "                 'value': 'gs://edc-dev/kubeflowpipelines-default/tfx_pipeline_output/node2vec_sports_syn_0_0_0'}],\n",
      " 'resource_references': [{'key': {'id': 'e8eca911-c543-4657-9889-e297113c4d74',\n",
      "                                  'type': 'PIPELINE'},\n",
      "                          'name': None,\n",
      "                          'relationship': 'OWNER'}]}\n",
      "Please access the pipeline detail page at https://df6bc4688870067-dot-us-east1.pipelines.googleusercontent.com/#/pipelines/details/e8eca911-c543-4657-9889-e297113c4d74\n",
      "Pipeline \"node2vec_sports_syn_0_0_0\" updated successfully.\n"
     ]
    }
   ],
   "source": [
    "# Update\n",
    "!tfx pipeline update \\\n",
    "--pipeline-path=/home/jupyter/node2vec_pipeline/kubeflow_runner.py \\\n",
    "--endpoint={ENDPOINT}"
   ]
  },
  {
   "cell_type": "code",
   "execution_count": 41,
   "id": "flush-prevention",
   "metadata": {
    "ExecuteTime": {
     "end_time": "2021-04-01T16:12:22.582231Z",
     "start_time": "2021-04-01T16:12:16.930091Z"
    }
   },
   "outputs": [
    {
     "name": "stdout",
     "output_type": "stream",
     "text": [
      "2021-04-01 16:12:17.427794: W tensorflow/stream_executor/platform/default/dso_loader.cc:59] Could not load dynamic library 'libcudart.so.10.1'; dlerror: libcudart.so.10.1: cannot open shared object file: No such file or directory\n",
      "2021-04-01 16:12:17.427854: I tensorflow/stream_executor/cuda/cudart_stub.cc:29] Ignore above cudart dlerror if you do not have a GPU set up on your machine.\n",
      "CLI\n",
      "Creating a run for pipeline: node2vec_sports_syn_0_0_0\n",
      "Detected Kubeflow.\n",
      "Use --engine flag if you intend to use a different orchestrator.\n",
      "Run created for pipeline: node2vec_sports_syn_0_0_0\n",
      "+---------------------------+--------------------------------------+----------+---------------------------+--------------------------------------------------------------------------------------------------------------------------+\n",
      "| pipeline_name             | run_id                               | status   | created_at                | link                                                                                                                     |\n",
      "+===========================+======================================+==========+===========================+==========================================================================================================================+\n",
      "| node2vec_sports_syn_0_0_0 | fc5c8f6d-aa40-4c87-8cc4-6f7cfd31a5a8 |          | 2021-04-01T16:12:21+00:00 | https://df6bc4688870067-dot-us-east1.pipelines.googleusercontent.com/#/runs/details/fc5c8f6d-aa40-4c87-8cc4-6f7cfd31a5a8 |\n",
      "+---------------------------+--------------------------------------+----------+---------------------------+--------------------------------------------------------------------------------------------------------------------------+\n"
     ]
    }
   ],
   "source": [
    "PIPELINE_NAME = \"node2vec_sports_syn_0_0_0\"\n",
    "!tfx run create --pipeline-name {PIPELINE_NAME} --endpoint={ENDPOINT}"
   ]
  },
  {
   "cell_type": "code",
   "execution_count": null,
   "id": "turned-applicant",
   "metadata": {},
   "outputs": [],
   "source": []
  }
 ],
 "metadata": {
  "environment": {
   "name": "common-cpu.m65",
   "type": "gcloud",
   "uri": "gcr.io/deeplearning-platform-release/base-cpu:m65"
  },
  "kernelspec": {
   "display_name": "Python 3",
   "language": "python",
   "name": "python3"
  },
  "language_info": {
   "codemirror_mode": {
    "name": "ipython",
    "version": 3
   },
   "file_extension": ".py",
   "mimetype": "text/x-python",
   "name": "python",
   "nbconvert_exporter": "python",
   "pygments_lexer": "ipython3",
   "version": "3.7.10"
  },
  "toc": {
   "base_numbering": 1,
   "nav_menu": {},
   "number_sections": true,
   "sideBar": true,
   "skip_h1_title": false,
   "title_cell": "Table of Contents",
   "title_sidebar": "Contents",
   "toc_cell": false,
   "toc_position": {},
   "toc_section_display": true,
   "toc_window_display": false
  }
 },
 "nbformat": 4,
 "nbformat_minor": 5
}
